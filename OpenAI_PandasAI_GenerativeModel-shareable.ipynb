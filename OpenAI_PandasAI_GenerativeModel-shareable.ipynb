{
 "cells": [
  {
   "cell_type": "markdown",
   "id": "bac09bc9-9d08-4707-adc3-ca292b2091e6",
   "metadata": {},
   "source": [
    "This code has been written to demostrate the generative AI cabilities of pandasai"
   ]
  },
  {
   "cell_type": "markdown",
   "id": "e55557c2-915f-4fd5-99d9-7240c8f3cb1f",
   "metadata": {},
   "source": [
    "Call the required libraries"
   ]
  },
  {
   "cell_type": "code",
   "execution_count": 25,
   "id": "534b1e8b-1669-4899-93f1-4469d6740f2b",
   "metadata": {
    "tags": []
   },
   "outputs": [],
   "source": [
    "import pandas as pd\n",
    "from pandasai import PandasAI\n",
    "from pandasai.llm.openai import OpenAI"
   ]
  },
  {
   "cell_type": "markdown",
   "id": "52d744de-d94a-4ae1-84d4-1fc4fd556d8a",
   "metadata": {},
   "source": [
    "Create an api key for OpenAI API"
   ]
  },
  {
   "cell_type": "code",
   "execution_count": 2,
   "id": "68a0692a-8781-4a28-81f5-2c708490a7ed",
   "metadata": {
    "tags": []
   },
   "outputs": [],
   "source": [
    "openai_api_key = 'OPENAI-API-KEY'"
   ]
  },
  {
   "cell_type": "markdown",
   "id": "6cf950bc-0afc-4cc0-85f8-8aeab79f9ee3",
   "metadata": {},
   "source": [
    "Initiate the LLM"
   ]
  },
  {
   "cell_type": "code",
   "execution_count": 3,
   "id": "053fd4af-a4b5-4c43-957d-ee59f2a5fda7",
   "metadata": {
    "tags": []
   },
   "outputs": [],
   "source": [
    "llm = OpenAI(api_token=openai_api_key)"
   ]
  },
  {
   "cell_type": "code",
   "execution_count": 4,
   "id": "a8abf157-8ced-4c7c-9893-3fa0c9c2fb7a",
   "metadata": {
    "tags": []
   },
   "outputs": [],
   "source": [
    "pandas_ai = PandasAI(llm)"
   ]
  },
  {
   "cell_type": "markdown",
   "id": "7c6c8566-16f7-4f63-ace5-d8e58650a259",
   "metadata": {},
   "source": [
    "Create a pandas dataframe for the selected dataset"
   ]
  },
  {
   "cell_type": "code",
   "execution_count": 5,
   "id": "d9fd26f4-b238-4359-a045-ce278d8a1e84",
   "metadata": {
    "tags": []
   },
   "outputs": [],
   "source": [
    "df = pd.read_csv(\"/Users/dakshsahni/Downloads/ds_salaries.csv\",index_col=0)"
   ]
  },
  {
   "cell_type": "markdown",
   "id": "ea08aa37-47bd-4353-a14b-4f23de11bc42",
   "metadata": {},
   "source": [
    "Understand the data"
   ]
  },
  {
   "cell_type": "code",
   "execution_count": 6,
   "id": "be762ef0-2a30-4d42-b642-8e88161975e9",
   "metadata": {
    "tags": []
   },
   "outputs": [
    {
     "data": {
      "text/html": [
       "<div>\n",
       "<style scoped>\n",
       "    .dataframe tbody tr th:only-of-type {\n",
       "        vertical-align: middle;\n",
       "    }\n",
       "\n",
       "    .dataframe tbody tr th {\n",
       "        vertical-align: top;\n",
       "    }\n",
       "\n",
       "    .dataframe thead th {\n",
       "        text-align: right;\n",
       "    }\n",
       "</style>\n",
       "<table border=\"1\" class=\"dataframe\">\n",
       "  <thead>\n",
       "    <tr style=\"text-align: right;\">\n",
       "      <th></th>\n",
       "      <th>experience_level</th>\n",
       "      <th>employment_type</th>\n",
       "      <th>job_title</th>\n",
       "      <th>salary</th>\n",
       "      <th>salary_currency</th>\n",
       "      <th>salary_in_usd</th>\n",
       "      <th>employee_residence</th>\n",
       "      <th>remote_ratio</th>\n",
       "      <th>company_location</th>\n",
       "      <th>company_size</th>\n",
       "    </tr>\n",
       "    <tr>\n",
       "      <th>work_year</th>\n",
       "      <th></th>\n",
       "      <th></th>\n",
       "      <th></th>\n",
       "      <th></th>\n",
       "      <th></th>\n",
       "      <th></th>\n",
       "      <th></th>\n",
       "      <th></th>\n",
       "      <th></th>\n",
       "      <th></th>\n",
       "    </tr>\n",
       "  </thead>\n",
       "  <tbody>\n",
       "    <tr>\n",
       "      <th>2023</th>\n",
       "      <td>SE</td>\n",
       "      <td>FT</td>\n",
       "      <td>Principal Data Scientist</td>\n",
       "      <td>80000</td>\n",
       "      <td>EUR</td>\n",
       "      <td>85847</td>\n",
       "      <td>ES</td>\n",
       "      <td>100</td>\n",
       "      <td>ES</td>\n",
       "      <td>L</td>\n",
       "    </tr>\n",
       "    <tr>\n",
       "      <th>2023</th>\n",
       "      <td>MI</td>\n",
       "      <td>CT</td>\n",
       "      <td>ML Engineer</td>\n",
       "      <td>30000</td>\n",
       "      <td>USD</td>\n",
       "      <td>30000</td>\n",
       "      <td>US</td>\n",
       "      <td>100</td>\n",
       "      <td>US</td>\n",
       "      <td>S</td>\n",
       "    </tr>\n",
       "    <tr>\n",
       "      <th>2023</th>\n",
       "      <td>MI</td>\n",
       "      <td>CT</td>\n",
       "      <td>ML Engineer</td>\n",
       "      <td>25500</td>\n",
       "      <td>USD</td>\n",
       "      <td>25500</td>\n",
       "      <td>US</td>\n",
       "      <td>100</td>\n",
       "      <td>US</td>\n",
       "      <td>S</td>\n",
       "    </tr>\n",
       "    <tr>\n",
       "      <th>2023</th>\n",
       "      <td>SE</td>\n",
       "      <td>FT</td>\n",
       "      <td>Data Scientist</td>\n",
       "      <td>175000</td>\n",
       "      <td>USD</td>\n",
       "      <td>175000</td>\n",
       "      <td>CA</td>\n",
       "      <td>100</td>\n",
       "      <td>CA</td>\n",
       "      <td>M</td>\n",
       "    </tr>\n",
       "    <tr>\n",
       "      <th>2023</th>\n",
       "      <td>SE</td>\n",
       "      <td>FT</td>\n",
       "      <td>Data Scientist</td>\n",
       "      <td>120000</td>\n",
       "      <td>USD</td>\n",
       "      <td>120000</td>\n",
       "      <td>CA</td>\n",
       "      <td>100</td>\n",
       "      <td>CA</td>\n",
       "      <td>M</td>\n",
       "    </tr>\n",
       "  </tbody>\n",
       "</table>\n",
       "</div>"
      ],
      "text/plain": [
       "          experience_level employment_type                 job_title  salary  \\\n",
       "work_year                                                                      \n",
       "2023                    SE              FT  Principal Data Scientist   80000   \n",
       "2023                    MI              CT               ML Engineer   30000   \n",
       "2023                    MI              CT               ML Engineer   25500   \n",
       "2023                    SE              FT            Data Scientist  175000   \n",
       "2023                    SE              FT            Data Scientist  120000   \n",
       "\n",
       "          salary_currency  salary_in_usd employee_residence  remote_ratio  \\\n",
       "work_year                                                                   \n",
       "2023                  EUR          85847                 ES           100   \n",
       "2023                  USD          30000                 US           100   \n",
       "2023                  USD          25500                 US           100   \n",
       "2023                  USD         175000                 CA           100   \n",
       "2023                  USD         120000                 CA           100   \n",
       "\n",
       "          company_location company_size  \n",
       "work_year                                \n",
       "2023                    ES            L  \n",
       "2023                    US            S  \n",
       "2023                    US            S  \n",
       "2023                    CA            M  \n",
       "2023                    CA            M  "
      ]
     },
     "execution_count": 6,
     "metadata": {},
     "output_type": "execute_result"
    }
   ],
   "source": [
    "df.head()"
   ]
  },
  {
   "cell_type": "code",
   "execution_count": 9,
   "id": "927b1230-9359-492f-b76b-c3ce43ad9eee",
   "metadata": {
    "tags": []
   },
   "outputs": [
    {
     "name": "stdout",
     "output_type": "stream",
     "text": [
      "<class 'pandas.core.frame.DataFrame'>\n",
      "Int64Index: 3755 entries, 2023 to 2021\n",
      "Data columns (total 10 columns):\n",
      " #   Column              Non-Null Count  Dtype \n",
      "---  ------              --------------  ----- \n",
      " 0   experience_level    3755 non-null   object\n",
      " 1   employment_type     3755 non-null   object\n",
      " 2   job_title           3755 non-null   object\n",
      " 3   salary              3755 non-null   int64 \n",
      " 4   salary_currency     3755 non-null   object\n",
      " 5   salary_in_usd       3755 non-null   int64 \n",
      " 6   employee_residence  3755 non-null   object\n",
      " 7   remote_ratio        3755 non-null   int64 \n",
      " 8   company_location    3755 non-null   object\n",
      " 9   company_size        3755 non-null   object\n",
      "dtypes: int64(3), object(7)\n",
      "memory usage: 322.7+ KB\n"
     ]
    }
   ],
   "source": [
    "df.info()"
   ]
  },
  {
   "cell_type": "markdown",
   "id": "684546ad-d94d-4ee7-b94d-8315fa5873cb",
   "metadata": {},
   "source": [
    "Write prompts to get the required output"
   ]
  },
  {
   "cell_type": "code",
   "execution_count": 7,
   "id": "744251a6-b5b9-4dcb-af4b-d5dba34ba5f4",
   "metadata": {
    "tags": []
   },
   "outputs": [
    {
     "name": "stdout",
     "output_type": "stream",
     "text": [
      "['Research Scientist', 'Data Analyst', 'AI Scientist', 'Applied Machine Learning Scientist', 'Principal Data Scientist']\n"
     ]
    }
   ],
   "source": [
    "response=pandas_ai.run(df, prompt='List the first 5 job titles by salary in usd')\n",
    "print(response)"
   ]
  },
  {
   "cell_type": "code",
   "execution_count": 10,
   "id": "58a05eed-c0db-4b34-88eb-554c7dd05609",
   "metadata": {
    "tags": []
   },
   "outputs": [
    {
     "data": {
      "image/png": "[encoded data removed]",
      "text/plain": [
       "<Figure size 640x480 with 1 Axes>"
      ]
     },
     "metadata": {},
     "output_type": "display_data"
    },
    {
     "name": "stdout",
     "output_type": "stream",
     "text": [
      "None\n"
     ]
    }
   ],
   "source": [
    "response=pandas_ai.run(df, prompt='Show me a barchart with the average salary in usd for each experience level along with labels')\n",
    "print(response)"
   ]
  },
  {
   "cell_type": "code",
   "execution_count": 14,
   "id": "5c45fdf4-dbe4-4a1d-92ff-f17641860464",
   "metadata": {
    "tags": []
   },
   "outputs": [
    {
     "name": "stdout",
     "output_type": "stream",
     "text": [
      "company_location\n",
      "AE    100000.000000\n",
      "AL     10000.000000\n",
      "AM     50000.000000\n",
      "AR     25000.000000\n",
      "AS     29351.000000\n",
      "          ...      \n",
      "TH     23064.333333\n",
      "TR     19058.000000\n",
      "UA     57850.000000\n",
      "US    151822.009539\n",
      "VN     12000.000000\n",
      "Name: salary_in_usd, Length: 72, dtype: float64\n"
     ]
    }
   ],
   "source": [
    "response=pandas_ai.run(df, prompt='What is the average salary in usd for each company location ?')\n",
    "print(response)"
   ]
  },
  {
   "cell_type": "code",
   "execution_count": 18,
   "id": "adce307d-9897-447a-9e58-2ad15d413258",
   "metadata": {
    "tags": []
   },
   "outputs": [
    {
     "name": "stdout",
     "output_type": "stream",
     "text": [
      "company_location\n",
      "AE    100000.000000\n",
      "AL     10000.000000\n",
      "AM     50000.000000\n",
      "AR     25000.000000\n",
      "AS     29351.000000\n",
      "          ...      \n",
      "TH     23064.333333\n",
      "TR     19058.000000\n",
      "UA     57850.000000\n",
      "US    151822.009539\n",
      "VN     12000.000000\n",
      "Name: salary_in_usd, Length: 72, dtype: float64\n"
     ]
    }
   ],
   "source": [
    "response=pandas_ai.run(df, prompt='List average salary in usd by company location')\n",
    "print(response)"
   ]
  },
  {
   "cell_type": "code",
   "execution_count": 19,
   "id": "509df993-01eb-4bcf-b6d3-bfd379a4aa6b",
   "metadata": {
    "tags": []
   },
   "outputs": [
    {
     "name": "stdout",
     "output_type": "stream",
     "text": [
      "140869.76547619049\n"
     ]
    }
   ],
   "source": [
    "response=pandas_ai.run(df, prompt='List average salary in usd where job title is equal to Data Scientist ')\n",
    "print(response)"
   ]
  },
  {
   "cell_type": "code",
   "execution_count": 20,
   "id": "38fa8d78-71ae-46b9-96b2-9f6912391c29",
   "metadata": {
    "tags": []
   },
   "outputs": [
    {
     "data": {
      "image/png": "[encoded data removed]",
      "text/plain": [
       "<Figure size 1000x600 with 1 Axes>"
      ]
     },
     "metadata": {},
     "output_type": "display_data"
    },
    {
     "name": "stdout",
     "output_type": "stream",
     "text": [
      "None\n"
     ]
    }
   ],
   "source": [
    "response=pandas_ai.run(df, prompt='Plot a bar chart showing top 10 job titles, using different colors for each bar')\n",
    "print(response)"
   ]
  },
  {
   "cell_type": "code",
   "execution_count": 21,
   "id": "7e7fcab9-5edb-49e3-8bf3-d364e69eb971",
   "metadata": {
    "tags": []
   },
   "outputs": [
    {
     "data": {
      "image/png": "[encoded data removed]",
      "text/plain": [
       "<Figure size 640x480 with 1 Axes>"
      ]
     },
     "metadata": {},
     "output_type": "display_data"
    },
    {
     "name": "stdout",
     "output_type": "stream",
     "text": [
      "None\n"
     ]
    }
   ],
   "source": [
    "response=pandas_ai.run(df, prompt='Plot a pie chart showing the experience level distribution')\n",
    "print(response)"
   ]
  },
  {
   "cell_type": "code",
   "execution_count": 27,
   "id": "797b24e5-0189-469f-bcf8-cd80f37412bb",
   "metadata": {
    "tags": []
   },
   "outputs": [
    {
     "name": "stdout",
     "output_type": "stream",
     "text": [
      "                                    job_title  salary_in_usd\n",
      "work_year                                                   \n",
      "2020                       Research Scientist         450000\n",
      "2022                             Data Analyst         430967\n",
      "2023                             AI Scientist         423834\n",
      "2021       Applied Machine Learning Scientist         423000\n",
      "2021                 Principal Data Scientist         416000\n"
     ]
    }
   ],
   "source": [
    "response=pandas_ai.run(df, prompt=\"list 5 highest salary in usd job titles along with salary in usd\")\n",
    "print(response)"
   ]
  },
  {
   "cell_type": "code",
   "execution_count": 28,
   "id": "8522546b-9c9c-42f4-af14-fd96291c0a75",
   "metadata": {
    "tags": []
   },
   "outputs": [
    {
     "name": "stdout",
     "output_type": "stream",
     "text": [
      "company_location\n",
      "IL    271446.500000\n",
      "PR    167500.000000\n",
      "US    151822.009539\n",
      "RU    140333.333333\n",
      "CA    131917.689655\n",
      "Name: salary_in_usd, dtype: float64\n"
     ]
    }
   ],
   "source": [
    "response=pandas_ai.run(df, prompt=\"list 5 average highest salary in usd company locations along with average salary in usd\")\n",
    "print(response)"
   ]
  },
  {
   "cell_type": "code",
   "execution_count": 29,
   "id": "0dfb1a41-d5cd-42d8-8d28-1d56380f7b97",
   "metadata": {
    "tags": []
   },
   "outputs": [
    {
     "name": "stdout",
     "output_type": "stream",
     "text": [
      "job_title                      experience_level\n",
      "3D Computer Vision Researcher  EN                   35000.0\n",
      "                               MI                  400000.0\n",
      "                               SE                   10000.0\n",
      "AI Developer                   EN                  100000.0\n",
      "                               MI                  150000.0\n",
      "                                                     ...   \n",
      "Research Scientist             SE                  169200.0\n",
      "Software Data Engineer         MI                  100000.0\n",
      "                               SE                   50000.0\n",
      "Staff Data Analyst             EX                   15000.0\n",
      "Staff Data Scientist           SE                  105000.0\n",
      "Name: salary, Length: 192, dtype: float64\n"
     ]
    }
   ],
   "source": [
    "response=pandas_ai.run(df, prompt=\"List the median salary for each job title and experience level\")\n",
    "print(response)"
   ]
  },
  {
   "cell_type": "code",
   "execution_count": null,
   "id": "1709f86e-b25d-4863-9743-fbe24c228146",
   "metadata": {},
   "outputs": [],
   "source": []
  }
 ],
 "metadata": {
  "kernelspec": {
   "display_name": "Python 3 (ipykernel)",
   "language": "python",
   "name": "python3"
  },
  "language_info": {
   "codemirror_mode": {
    "name": "ipython",
    "version": 3
   },
   "file_extension": ".py",
   "mimetype": "text/x-python",
   "name": "python",
   "nbconvert_exporter": "python",
   "pygments_lexer": "ipython3",
   "version": "3.10.9"
  }
 },
 "nbformat": 4,
 "nbformat_minor": 5
}
